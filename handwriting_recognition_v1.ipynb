{
  "nbformat": 4,
  "nbformat_minor": 0,
  "metadata": {
    "colab": {
      "name": "handwriting_recognition_v1.ipynb",
      "provenance": [],
      "collapsed_sections": [],
      "include_colab_link": true
    },
    "kernelspec": {
      "name": "python3",
      "display_name": "Python 3"
    },
    "accelerator": "GPU"
  },
  "cells": [
    {
      "cell_type": "markdown",
      "metadata": {
        "id": "view-in-github",
        "colab_type": "text"
      },
      "source": [
        "<a href=\"https://colab.research.google.com/github/VOINTENT/handwriting_recognition/blob/master/handwriting_recognition_v1.ipynb\" target=\"_parent\"><img src=\"https://colab.research.google.com/assets/colab-badge.svg\" alt=\"Open In Colab\"/></a>"
      ]
    },
    {
      "cell_type": "markdown",
      "metadata": {
        "id": "lA5Wyw-bp9dH",
        "colab_type": "text"
      },
      "source": [
        "# Распознавание рукописных цифр"
      ]
    },
    {
      "cell_type": "code",
      "metadata": {
        "id": "F4f9oBdR8PMq",
        "colab_type": "code",
        "colab": {}
      },
      "source": [
        "import tensorflow as tf\n",
        "from tensorflow import keras\n",
        "\n",
        "import numpy as np\n",
        "import matplotlib.pyplot as plt\n",
        "import shelve\n",
        "import random"
      ],
      "execution_count": 0,
      "outputs": []
    },
    {
      "cell_type": "code",
      "metadata": {
        "id": "kST4JR9w9MaR",
        "colab_type": "code",
        "colab": {}
      },
      "source": [
        "# Загрузка датасета\n",
        "mnist = keras.datasets.mnist\n",
        "(train_images, train_labels), (test_images, test_labels) = mnist.load_data()\n",
        "\n",
        "# train_images - изображения для треннировок\n",
        "# train_labels - метки для треннировок\n",
        "\n",
        "# test_images - тестовые изображения\n",
        "# test_labels - тестовые метки"
      ],
      "execution_count": 0,
      "outputs": []
    },
    {
      "cell_type": "code",
      "metadata": {
        "id": "OBgalpt1I5th",
        "colab_type": "code",
        "colab": {}
      },
      "source": [
        "# Пример отображения цифры\n",
        "train_image = train_images[2]\n",
        "for i in range( len( train_image ) ):\n",
        "    for j in range( len( train_image[i] ) ):\n",
        "        max_len = len( str( max( train_image[:,j] ) ) )\n",
        "        spaces = ( max_len - len( str( train_image[i][j] ) ) + 1 ) * ' '\n",
        "        print(train_image[i][j], end = spaces)\n",
        "    print()"
      ],
      "execution_count": 0,
      "outputs": []
    },
    {
      "cell_type": "code",
      "metadata": {
        "id": "eUB-bdzjCXNE",
        "colab_type": "code",
        "colab": {}
      },
      "source": [
        "# Графическое отображение\n",
        "plt.figure()\n",
        "plt.imshow(train_images[0], cmap=plt.cm.binary)\n",
        "plt.colorbar()\n",
        "plt.grid(False)\n",
        "plt.show()"
      ],
      "execution_count": 0,
      "outputs": []
    },
    {
      "cell_type": "code",
      "metadata": {
        "id": "MyYGaffVJ-DU",
        "colab_type": "code",
        "colab": {}
      },
      "source": [
        "# Преобразование данных в диапазон [0..1]\n",
        "train_images = train_images / 255.0\n",
        "test_images = test_images / 255.0"
      ],
      "execution_count": 0,
      "outputs": []
    },
    {
      "cell_type": "code",
      "metadata": {
        "id": "Nf4Bhm0XKPIa",
        "colab_type": "code",
        "colab": {}
      },
      "source": [
        "# Отображение первых 25и изображений с подписями\n",
        "plt.figure( figsize = (10, 10) )\n",
        "for i in range(25):\n",
        "    plt.subplot(5, 5, i+1)\n",
        "    plt.xticks([])\n",
        "    plt.yticks([])\n",
        "    plt.grid(False)\n",
        "    plt.imshow(train_images[i], cmap=plt.cm.binary)\n",
        "    plt.xlabel(train_labels[i])\n",
        "plt.show()"
      ],
      "execution_count": 0,
      "outputs": []
    },
    {
      "cell_type": "code",
      "metadata": {
        "colab_type": "code",
        "id": "08B7zv5joFbJ",
        "colab": {}
      },
      "source": [
        "# Настройка слоев модели VAR1\n",
        "model = keras.Sequential([\n",
        "    keras.layers.Flatten(input_shape=(28, 28)),\n",
        "    keras.layers.Dense(128, activation='relu'),\n",
        "    keras.layers.Dense(10, activation='softmax')\n",
        "])"
      ],
      "execution_count": 0,
      "outputs": []
    },
    {
      "cell_type": "code",
      "metadata": {
        "id": "cAWxbqi3jFvo",
        "colab_type": "code",
        "colab": {}
      },
      "source": [
        "# Настройка слоев модели VAR2\n",
        "model = keras.Sequential([\n",
        "    keras.layers.Flatten(input_shape=(28, 28)),\n",
        "    keras.layers.Dense(128, activation='relu'),\n",
        "    keras.layers.Dropout(0.2),\n",
        "    keras.layers.Dense(128, activation='relu'),\n",
        "    keras.layers.Dropout(0.2),\n",
        "    keras.layers.Dense(10, activation='softmax')\n",
        "])"
      ],
      "execution_count": 0,
      "outputs": []
    },
    {
      "cell_type": "code",
      "metadata": {
        "id": "WCN8F42zM934",
        "colab_type": "code",
        "colab": {}
      },
      "source": [
        "# Компиляция модели\n",
        "model.compile(optimizer='adam',\n",
        "             loss='sparse_categorical_crossentropy',\n",
        "             metrics=['accuracy'])"
      ],
      "execution_count": 0,
      "outputs": []
    },
    {
      "cell_type": "code",
      "metadata": {
        "id": "lxhfDLV0OeBY",
        "colab_type": "code",
        "colab": {}
      },
      "source": [
        "# Просмотр структуры получившейся сети\n",
        "model.summary()"
      ],
      "execution_count": 0,
      "outputs": []
    },
    {
      "cell_type": "code",
      "metadata": {
        "id": "Ox8ZPUlMPeH-",
        "colab_type": "code",
        "colab": {}
      },
      "source": [
        "# Обучение сети\n",
        "model.fit(train_images, train_labels, epochs=10)"
      ],
      "execution_count": 0,
      "outputs": []
    },
    {
      "cell_type": "code",
      "metadata": {
        "id": "Y8xISlsHt3vf",
        "colab_type": "code",
        "colab": {}
      },
      "source": [
        "# Сохранение модели сети\n",
        "model.save('model.h5')"
      ],
      "execution_count": 0,
      "outputs": []
    },
    {
      "cell_type": "code",
      "metadata": {
        "id": "COfl8_2VzVoG",
        "colab_type": "code",
        "colab": {}
      },
      "source": [
        "# Загрузка модели\n",
        "model = keras.models.load_model('model.h5')"
      ],
      "execution_count": 0,
      "outputs": []
    },
    {
      "cell_type": "code",
      "metadata": {
        "id": "NjLg3yXHQATt",
        "colab_type": "code",
        "colab": {}
      },
      "source": [
        "# Проверка работы сети\n",
        "size = 10000\n",
        "test_loss, test_acc = model.evaluate(test_images[:size], test_labels[:size])\n",
        "print('\\nТочность на проверочных данных', test_acc)"
      ],
      "execution_count": 0,
      "outputs": []
    },
    {
      "cell_type": "code",
      "metadata": {
        "id": "9haF91w-Qum5",
        "colab_type": "code",
        "colab": {}
      },
      "source": [
        "# Предсказания сети\n",
        "predictions = model.predict(test_images)\n",
        "\n",
        "attempts = 10\n",
        "for i in range(attempts):\n",
        "    i = random.randint(0, 10000)\n",
        "    print('test_image[{}]. Ожидалось: {}, получили: {}'.format(i, np.argmax(predictions[i]), test_labels[i]))"
      ],
      "execution_count": 0,
      "outputs": []
    }
  ]
}